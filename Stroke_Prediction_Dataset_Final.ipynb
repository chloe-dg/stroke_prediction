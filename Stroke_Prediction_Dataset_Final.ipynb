{
  "cells": [
    {
      "cell_type": "markdown",
      "metadata": {
        "id": "ycfE99bniXCF"
      },
      "source": [
        "# Load Dataset and Libraries"
      ]
    },
    {
      "cell_type": "code",
      "execution_count": 1,
      "metadata": {
        "id": "mFzAjWaIi3qj"
      },
      "outputs": [],
      "source": [
        "import numpy as np\n",
        "import pandas as pd \n",
        "import matplotlib.pyplot as plt\n",
        "import seaborn as sns\n",
        "import plotly.express as px\n",
        "\n",
        "from scipy.stats import skew\n",
        "from scipy.stats import uniform\n",
        "\n",
        "from xgboost import XGBRegressor\n",
        "from sklearn.kernel_ridge import KernelRidge\n",
        "from sklearn.model_selection import RandomizedSearchCV\n",
        "from sklearn.feature_selection import RFECV\n",
        "from sklearn.preprocessing import RobustScaler\n",
        "from sklearn.metrics import make_scorer \n",
        "\n",
        "# Classifier Libraries\n",
        "from sklearn.linear_model import LogisticRegression\n",
        "from sklearn.svm import SVC\n",
        "from sklearn.neighbors import KNeighborsClassifier\n",
        "from sklearn.tree import DecisionTreeClassifier\n",
        "from sklearn.ensemble import RandomForestClassifier\n",
        "import collections\n",
        "from sklearn.model_selection import cross_val_score\n",
        "from sklearn.model_selection import GridSearchCV\n",
        "from sklearn.model_selection import train_test_split\n",
        "\n",
        "from sklearn.metrics import confusion_matrix, precision_score, recall_score, f1_score, plot_confusion_matrix, classification_report, accuracy_score\n",
        "from sklearn.metrics import roc_auc_score, roc_curve, precision_recall_curve\n",
        "# ignore Deprecation Warning\n",
        "import warnings\n",
        "warnings.filterwarnings(\"ignore\", category=DeprecationWarning) \n"
      ]
    },
    {
      "cell_type": "code",
      "execution_count": 2,
      "metadata": {
        "colab": {
          "base_uri": "https://localhost:8080/",
          "height": 206
        },
        "id": "gih7B3j5i3es",
        "outputId": "9e772343-91e1-4d57-f4f2-30060ea14f97"
      },
      "outputs": [
        {
          "data": {
            "text/html": [
              "<div>\n",
              "<style scoped>\n",
              "    .dataframe tbody tr th:only-of-type {\n",
              "        vertical-align: middle;\n",
              "    }\n",
              "\n",
              "    .dataframe tbody tr th {\n",
              "        vertical-align: top;\n",
              "    }\n",
              "\n",
              "    .dataframe thead th {\n",
              "        text-align: right;\n",
              "    }\n",
              "</style>\n",
              "<table border=\"1\" class=\"dataframe\">\n",
              "  <thead>\n",
              "    <tr style=\"text-align: right;\">\n",
              "      <th></th>\n",
              "      <th>id</th>\n",
              "      <th>gender</th>\n",
              "      <th>age</th>\n",
              "      <th>hypertension</th>\n",
              "      <th>heart_disease</th>\n",
              "      <th>ever_married</th>\n",
              "      <th>work_type</th>\n",
              "      <th>Residence_type</th>\n",
              "      <th>avg_glucose_level</th>\n",
              "      <th>bmi</th>\n",
              "      <th>smoking_status</th>\n",
              "      <th>stroke</th>\n",
              "    </tr>\n",
              "  </thead>\n",
              "  <tbody>\n",
              "    <tr>\n",
              "      <th>0</th>\n",
              "      <td>9046</td>\n",
              "      <td>Male</td>\n",
              "      <td>67.0</td>\n",
              "      <td>0</td>\n",
              "      <td>1</td>\n",
              "      <td>Yes</td>\n",
              "      <td>Private</td>\n",
              "      <td>Urban</td>\n",
              "      <td>228.69</td>\n",
              "      <td>36.6</td>\n",
              "      <td>formerly smoked</td>\n",
              "      <td>1</td>\n",
              "    </tr>\n",
              "    <tr>\n",
              "      <th>1</th>\n",
              "      <td>51676</td>\n",
              "      <td>Female</td>\n",
              "      <td>61.0</td>\n",
              "      <td>0</td>\n",
              "      <td>0</td>\n",
              "      <td>Yes</td>\n",
              "      <td>Self-employed</td>\n",
              "      <td>Rural</td>\n",
              "      <td>202.21</td>\n",
              "      <td>NaN</td>\n",
              "      <td>never smoked</td>\n",
              "      <td>1</td>\n",
              "    </tr>\n",
              "    <tr>\n",
              "      <th>2</th>\n",
              "      <td>31112</td>\n",
              "      <td>Male</td>\n",
              "      <td>80.0</td>\n",
              "      <td>0</td>\n",
              "      <td>1</td>\n",
              "      <td>Yes</td>\n",
              "      <td>Private</td>\n",
              "      <td>Rural</td>\n",
              "      <td>105.92</td>\n",
              "      <td>32.5</td>\n",
              "      <td>never smoked</td>\n",
              "      <td>1</td>\n",
              "    </tr>\n",
              "    <tr>\n",
              "      <th>3</th>\n",
              "      <td>60182</td>\n",
              "      <td>Female</td>\n",
              "      <td>49.0</td>\n",
              "      <td>0</td>\n",
              "      <td>0</td>\n",
              "      <td>Yes</td>\n",
              "      <td>Private</td>\n",
              "      <td>Urban</td>\n",
              "      <td>171.23</td>\n",
              "      <td>34.4</td>\n",
              "      <td>smokes</td>\n",
              "      <td>1</td>\n",
              "    </tr>\n",
              "    <tr>\n",
              "      <th>4</th>\n",
              "      <td>1665</td>\n",
              "      <td>Female</td>\n",
              "      <td>79.0</td>\n",
              "      <td>1</td>\n",
              "      <td>0</td>\n",
              "      <td>Yes</td>\n",
              "      <td>Self-employed</td>\n",
              "      <td>Rural</td>\n",
              "      <td>174.12</td>\n",
              "      <td>24.0</td>\n",
              "      <td>never smoked</td>\n",
              "      <td>1</td>\n",
              "    </tr>\n",
              "  </tbody>\n",
              "</table>\n",
              "</div>"
            ],
            "text/plain": [
              "      id  gender   age  hypertension  heart_disease ever_married  \\\n",
              "0   9046    Male  67.0             0              1          Yes   \n",
              "1  51676  Female  61.0             0              0          Yes   \n",
              "2  31112    Male  80.0             0              1          Yes   \n",
              "3  60182  Female  49.0             0              0          Yes   \n",
              "4   1665  Female  79.0             1              0          Yes   \n",
              "\n",
              "       work_type Residence_type  avg_glucose_level   bmi   smoking_status  \\\n",
              "0        Private          Urban             228.69  36.6  formerly smoked   \n",
              "1  Self-employed          Rural             202.21   NaN     never smoked   \n",
              "2        Private          Rural             105.92  32.5     never smoked   \n",
              "3        Private          Urban             171.23  34.4           smokes   \n",
              "4  Self-employed          Rural             174.12  24.0     never smoked   \n",
              "\n",
              "   stroke  \n",
              "0       1  \n",
              "1       1  \n",
              "2       1  \n",
              "3       1  \n",
              "4       1  "
            ]
          },
          "execution_count": 2,
          "metadata": {},
          "output_type": "execute_result"
        }
      ],
      "source": [
        "data = pd.read_csv('data/healthcare-dataset-stroke-data.csv')\n",
        "\n",
        "data.head()"
      ]
    },
    {
      "cell_type": "markdown",
      "metadata": {
        "id": "PTq12XDRjVkk"
      },
      "source": [
        "The dataset includes data of 5110 patients, 10 predict variables and 1 target variable"
      ]
    },
    {
      "cell_type": "code",
      "execution_count": 3,
      "metadata": {
        "colab": {
          "base_uri": "https://localhost:8080/"
        },
        "id": "a2ueTueYjAAu",
        "outputId": "769b9c81-9ee5-494c-f83c-2aafb5da2508"
      },
      "outputs": [
        {
          "name": "stdout",
          "output_type": "stream",
          "text": [
            "<class 'pandas.core.frame.DataFrame'>\n",
            "RangeIndex: 5110 entries, 0 to 5109\n",
            "Data columns (total 12 columns):\n",
            " #   Column             Non-Null Count  Dtype  \n",
            "---  ------             --------------  -----  \n",
            " 0   id                 5110 non-null   int64  \n",
            " 1   gender             5110 non-null   object \n",
            " 2   age                5110 non-null   float64\n",
            " 3   hypertension       5110 non-null   int64  \n",
            " 4   heart_disease      5110 non-null   int64  \n",
            " 5   ever_married       5110 non-null   object \n",
            " 6   work_type          5110 non-null   object \n",
            " 7   Residence_type     5110 non-null   object \n",
            " 8   avg_glucose_level  5110 non-null   float64\n",
            " 9   bmi                4909 non-null   float64\n",
            " 10  smoking_status     5110 non-null   object \n",
            " 11  stroke             5110 non-null   int64  \n",
            "dtypes: float64(3), int64(4), object(5)\n",
            "memory usage: 479.2+ KB\n"
          ]
        }
      ],
      "source": [
        "data.info()"
      ]
    },
    {
      "cell_type": "code",
      "execution_count": 4,
      "metadata": {
        "id": "8Mz-0cmkpklU"
      },
      "outputs": [],
      "source": [
        "df = data.copy()"
      ]
    },
    {
      "cell_type": "markdown",
      "metadata": {},
      "source": [
        "Next, we check the number of NA value in each columns. Then, we could see that BMI column has many NA values (3.9%). We will process these NA values in the Data Processing part."
      ]
    },
    {
      "cell_type": "code",
      "execution_count": 5,
      "metadata": {
        "colab": {
          "base_uri": "https://localhost:8080/"
        },
        "id": "kz0plk89jCiE",
        "outputId": "bbb3059e-a15b-48d8-f666-ea311fdf222b"
      },
      "outputs": [
        {
          "data": {
            "text/plain": [
              "id                   0.000000\n",
              "gender               0.000000\n",
              "age                  0.000000\n",
              "hypertension         0.000000\n",
              "heart_disease        0.000000\n",
              "ever_married         0.000000\n",
              "work_type            0.000000\n",
              "Residence_type       0.000000\n",
              "avg_glucose_level    0.000000\n",
              "bmi                  0.039335\n",
              "smoking_status       0.000000\n",
              "stroke               0.000000\n",
              "dtype: float64"
            ]
          },
          "execution_count": 5,
          "metadata": {},
          "output_type": "execute_result"
        }
      ],
      "source": [
        "df.isna().sum()/len(df)"
      ]
    },
    {
      "cell_type": "markdown",
      "metadata": {
        "id": "yw4JTFqsnNN_"
      },
      "source": [
        "# Data Overview\n",
        "In this section, we will go over every feature in the dataset and review their distributions, correlations with the predict value (stroke)"
      ]
    },
    {
      "cell_type": "markdown",
      "metadata": {},
      "source": [
        "In the dataset, only 5% of the patients are identified with stroke, thus we need to apply stratify sampling the train and test dataset"
      ]
    },
    {
      "cell_type": "code",
      "execution_count": 6,
      "metadata": {},
      "outputs": [
        {
          "data": {
            "text/plain": [
              "0    0.951272\n",
              "1    0.048728\n",
              "Name: stroke, dtype: float64"
            ]
          },
          "execution_count": 6,
          "metadata": {},
          "output_type": "execute_result"
        }
      ],
      "source": [
        "df['stroke'].value_counts()/len(df)"
      ]
    },
    {
      "cell_type": "code",
      "execution_count": 7,
      "metadata": {},
      "outputs": [
        {
          "data": {
            "text/plain": [
              "Text(0, 0.5, 'Number of patients')"
            ]
          },
          "execution_count": 7,
          "metadata": {},
          "output_type": "execute_result"
        },
        {
          "data": {
            "image/png": "[encoded data removed]",
            "text/plain": [
              "<Figure size 432x288 with 1 Axes>"
            ]
          },
          "metadata": {
            "needs_background": "light"
          },
          "output_type": "display_data"
        }
      ],
      "source": [
        "stroke = df['stroke'].value_counts()\n",
        "stroke.plot(kind='bar')\n",
        "plt.xticks(rotation='0')\n",
        "plt.title(\"Stroke class histogram\")\n",
        "plt.xlabel(\"Stroke vs. Non-stroke\")\n",
        "plt.ylabel(\"Number of patients\")"
      ]
    },
    {
      "cell_type": "code",
      "execution_count": 8,
      "metadata": {
        "colab": {
          "base_uri": "https://localhost:8080/",
          "height": 351
        },
        "id": "0-pjzXkilYY7",
        "outputId": "c11b8878-0d4f-46ce-fa10-88a4458650dd"
      },
      "outputs": [
        {
          "data": {
            "text/plain": [
              "(array([ 411., 1964., 1809.,  575.,  105.,   37.,    4.,    2.,    0.,\n",
              "           2.]),\n",
              " array([10.3 , 19.03, 27.76, 36.49, 45.22, 53.95, 62.68, 71.41, 80.14,\n",
              "        88.87, 97.6 ]),\n",
              " <BarContainer object of 10 artists>)"
            ]
          },
          "execution_count": 8,
          "metadata": {},
          "output_type": "execute_result"
        },
        {
          "data": {
            "image/png": "[encoded data removed]",
            "text/plain": [
              "<Figure size 432x288 with 1 Axes>"
            ]
          },
          "metadata": {
            "needs_background": "light"
          },
          "output_type": "display_data"
        }
      ],
      "source": [
        "# Next, inspect the BMI distribution\n",
        "plt.hist(df['bmi'])"
      ]
    },
    {
      "cell_type": "code",
      "execution_count": 9,
      "metadata": {
        "colab": {
          "base_uri": "https://localhost:8080/",
          "height": 282
        },
        "id": "hYMuyk-ksnq9",
        "outputId": "e7ca0667-ba3a-4f4c-9eb3-61a492422d49"
      },
      "outputs": [
        {
          "data": {
            "text/plain": [
              "[<matplotlib.lines.Line2D at 0x7fdca808c1c0>]"
            ]
          },
          "execution_count": 9,
          "metadata": {},
          "output_type": "execute_result"
        },
        {
          "data": {
            "image/png": "[encoded data removed]",
            "text/plain": [
              "<Figure size 432x288 with 1 Axes>"
            ]
          },
          "metadata": {
            "needs_background": "light"
          },
          "output_type": "display_data"
        }
      ],
      "source": [
        "stroke = df[df['stroke'] == 1]\n",
        "# plt.plot(stroke['stroke'], stroke['age'])\n",
        "stroke_age = stroke.groupby('age', as_index=False).size()\n",
        "plt.plot(stroke_age['age'], stroke_age['size'])"
      ]
    },
    {
      "cell_type": "markdown",
      "metadata": {
        "id": "0VAIX18fu2Qq"
      },
      "source": [
        "90% of the stroke patients is over 40yo"
      ]
    },
    {
      "cell_type": "code",
      "execution_count": 10,
      "metadata": {
        "colab": {
          "base_uri": "https://localhost:8080/",
          "height": 335
        },
        "id": "9y79wdlnuyir",
        "outputId": "024a0e0f-0beb-4a18-a7d4-67de8d55df78"
      },
      "outputs": [
        {
          "data": {
            "text/plain": [
              "(array([1., 1., 0., 1., 2., 7., 8., 7., 8., 9.]),\n",
              " array([ 1.32 ,  9.388, 17.456, 25.524, 33.592, 41.66 , 49.728, 57.796,\n",
              "        65.864, 73.932, 82.   ]),\n",
              " <BarContainer object of 10 artists>)"
            ]
          },
          "execution_count": 10,
          "metadata": {},
          "output_type": "execute_result"
        },
        {
          "data": {
            "image/png": "[encoded data removed]",
            "text/plain": [
              "<Figure size 432x288 with 1 Axes>"
            ]
          },
          "metadata": {
            "needs_background": "light"
          },
          "output_type": "display_data"
        }
      ],
      "source": [
        "plt.hist(stroke_age['age'])"
      ]
    },
    {
      "cell_type": "markdown",
      "metadata": {
        "id": "qIVf4bhVrAT0"
      },
      "source": [
        "People with hypertension has 4 times higher possibility to get stroke (15% vs. 4% of hypertension vs. non-hypertension)"
      ]
    },
    {
      "cell_type": "code",
      "execution_count": 11,
      "metadata": {
        "colab": {
          "base_uri": "https://localhost:8080/",
          "height": 143
        },
        "id": "wWYEpFwnnJAZ",
        "outputId": "0715d99b-9ebe-49cd-90dc-b8857195ebc4"
      },
      "outputs": [
        {
          "data": {
            "text/html": [
              "<div>\n",
              "<style scoped>\n",
              "    .dataframe tbody tr th:only-of-type {\n",
              "        vertical-align: middle;\n",
              "    }\n",
              "\n",
              "    .dataframe tbody tr th {\n",
              "        vertical-align: top;\n",
              "    }\n",
              "\n",
              "    .dataframe thead th {\n",
              "        text-align: right;\n",
              "    }\n",
              "</style>\n",
              "<table border=\"1\" class=\"dataframe\">\n",
              "  <thead>\n",
              "    <tr style=\"text-align: right;\">\n",
              "      <th>hypertension</th>\n",
              "      <th>0</th>\n",
              "      <th>1</th>\n",
              "    </tr>\n",
              "    <tr>\n",
              "      <th>stroke</th>\n",
              "      <th></th>\n",
              "      <th></th>\n",
              "    </tr>\n",
              "  </thead>\n",
              "  <tbody>\n",
              "    <tr>\n",
              "      <th>0</th>\n",
              "      <td>4429</td>\n",
              "      <td>432</td>\n",
              "    </tr>\n",
              "    <tr>\n",
              "      <th>1</th>\n",
              "      <td>183</td>\n",
              "      <td>66</td>\n",
              "    </tr>\n",
              "  </tbody>\n",
              "</table>\n",
              "</div>"
            ],
            "text/plain": [
              "hypertension     0    1\n",
              "stroke                 \n",
              "0             4429  432\n",
              "1              183   66"
            ]
          },
          "execution_count": 11,
          "metadata": {},
          "output_type": "execute_result"
        }
      ],
      "source": [
        "pd.crosstab(df['stroke'], df['hypertension'])"
      ]
    },
    {
      "cell_type": "markdown",
      "metadata": {},
      "source": [
        "There is no significant correlation between residence type and stroke tendency"
      ]
    },
    {
      "cell_type": "code",
      "execution_count": 12,
      "metadata": {
        "colab": {
          "base_uri": "https://localhost:8080/",
          "height": 143
        },
        "id": "1zP7TkNanI9k",
        "outputId": "8e77c15f-12a8-4119-9dbb-1ce7c04d13cd"
      },
      "outputs": [
        {
          "data": {
            "text/html": [
              "<div>\n",
              "<style scoped>\n",
              "    .dataframe tbody tr th:only-of-type {\n",
              "        vertical-align: middle;\n",
              "    }\n",
              "\n",
              "    .dataframe tbody tr th {\n",
              "        vertical-align: top;\n",
              "    }\n",
              "\n",
              "    .dataframe thead th {\n",
              "        text-align: right;\n",
              "    }\n",
              "</style>\n",
              "<table border=\"1\" class=\"dataframe\">\n",
              "  <thead>\n",
              "    <tr style=\"text-align: right;\">\n",
              "      <th>Residence_type</th>\n",
              "      <th>Rural</th>\n",
              "      <th>Urban</th>\n",
              "    </tr>\n",
              "    <tr>\n",
              "      <th>stroke</th>\n",
              "      <th></th>\n",
              "      <th></th>\n",
              "    </tr>\n",
              "  </thead>\n",
              "  <tbody>\n",
              "    <tr>\n",
              "      <th>0</th>\n",
              "      <td>2400</td>\n",
              "      <td>2461</td>\n",
              "    </tr>\n",
              "    <tr>\n",
              "      <th>1</th>\n",
              "      <td>114</td>\n",
              "      <td>135</td>\n",
              "    </tr>\n",
              "  </tbody>\n",
              "</table>\n",
              "</div>"
            ],
            "text/plain": [
              "Residence_type  Rural  Urban\n",
              "stroke                      \n",
              "0                2400   2461\n",
              "1                 114    135"
            ]
          },
          "execution_count": 12,
          "metadata": {},
          "output_type": "execute_result"
        }
      ],
      "source": [
        "pd.crosstab(df['stroke'], df['Residence_type'])"
      ]
    },
    {
      "cell_type": "markdown",
      "metadata": {},
      "source": [
        "Married people is 8 times more likely to have stroke than single people. However, this could be a bias because married people is more likely to be older and is more likely to have stroke"
      ]
    },
    {
      "cell_type": "code",
      "execution_count": 13,
      "metadata": {
        "colab": {
          "base_uri": "https://localhost:8080/",
          "height": 143
        },
        "id": "jkKf75QHwLPp",
        "outputId": "906eb09e-0be7-4e2e-bc08-c08ded4d8462"
      },
      "outputs": [
        {
          "data": {
            "text/html": [
              "<div>\n",
              "<style scoped>\n",
              "    .dataframe tbody tr th:only-of-type {\n",
              "        vertical-align: middle;\n",
              "    }\n",
              "\n",
              "    .dataframe tbody tr th {\n",
              "        vertical-align: top;\n",
              "    }\n",
              "\n",
              "    .dataframe thead th {\n",
              "        text-align: right;\n",
              "    }\n",
              "</style>\n",
              "<table border=\"1\" class=\"dataframe\">\n",
              "  <thead>\n",
              "    <tr style=\"text-align: right;\">\n",
              "      <th>ever_married</th>\n",
              "      <th>No</th>\n",
              "      <th>Yes</th>\n",
              "    </tr>\n",
              "    <tr>\n",
              "      <th>stroke</th>\n",
              "      <th></th>\n",
              "      <th></th>\n",
              "    </tr>\n",
              "  </thead>\n",
              "  <tbody>\n",
              "    <tr>\n",
              "      <th>0</th>\n",
              "      <td>0.338160</td>\n",
              "      <td>0.613112</td>\n",
              "    </tr>\n",
              "    <tr>\n",
              "      <th>1</th>\n",
              "      <td>0.005675</td>\n",
              "      <td>0.043053</td>\n",
              "    </tr>\n",
              "  </tbody>\n",
              "</table>\n",
              "</div>"
            ],
            "text/plain": [
              "ever_married        No       Yes\n",
              "stroke                          \n",
              "0             0.338160  0.613112\n",
              "1             0.005675  0.043053"
            ]
          },
          "execution_count": 13,
          "metadata": {},
          "output_type": "execute_result"
        }
      ],
      "source": [
        "pd.crosstab(df['stroke'], df['ever_married'])/len(df)"
      ]
    },
    {
      "cell_type": "code",
      "execution_count": 14,
      "metadata": {},
      "outputs": [],
      "source": [
        "age_marry = pd.pivot_table(data, index='age', columns='ever_married', values='stroke' ,aggfunc=np.size, fill_value=0)\n",
        "age_marry.reset_index(inplace=True)"
      ]
    },
    {
      "cell_type": "code",
      "execution_count": 15,
      "metadata": {},
      "outputs": [
        {
          "data": {
            "text/plain": [
              "Index(['age', 'No', 'Yes'], dtype='object', name='ever_married')"
            ]
          },
          "execution_count": 15,
          "metadata": {},
          "output_type": "execute_result"
        }
      ],
      "source": [
        "age_marry.columns"
      ]
    },
    {
      "cell_type": "markdown",
      "metadata": {},
      "source": [
        "The below charts confirm our hypothesis: the correlation between Marital status and Stroke is spurious, because the true causal relationship is Age."
      ]
    },
    {
      "cell_type": "code",
      "execution_count": 16,
      "metadata": {},
      "outputs": [
        {
          "data": {
            "text/plain": [
              "(array([40., 28.,  5.,  3.,  5.,  8.,  3.,  2.,  7.,  3.]),\n",
              " array([ 0. ,  6.5, 13. , 19.5, 26. , 32.5, 39. , 45.5, 52. , 58.5, 65. ]),\n",
              " <BarContainer object of 10 artists>)"
            ]
          },
          "execution_count": 16,
          "metadata": {},
          "output_type": "execute_result"
        },
        {
          "data": {
            "image/png": "[encoded data removed]",
            "text/plain": [
              "<Figure size 1080x432 with 2 Axes>"
            ]
          },
          "metadata": {
            "needs_background": "light"
          },
          "output_type": "display_data"
        }
      ],
      "source": [
        "fig, axes = plt.subplots(figsize=(15,6), nrows=1, ncols=2, sharex=True)\n",
        "\n",
        "ax = axes[0]\n",
        "ax.set_ylabel(\"Married\")\n",
        "ax.hist(age_marry['Yes'], label='Married people age')\n",
        "\n",
        "ax = axes[1]\n",
        "ax.set_ylabel(\"Single\")\n",
        "ax.hist(age_marry['No'], label='Single people age')"
      ]
    },
    {
      "cell_type": "markdown",
      "metadata": {},
      "source": [
        "There is not signifcant difference in likability to have stroke between Male and Female "
      ]
    },
    {
      "cell_type": "code",
      "execution_count": 17,
      "metadata": {
        "colab": {
          "base_uri": "https://localhost:8080/",
          "height": 143
        },
        "id": "JcV-5-4awWkR",
        "outputId": "7e03a113-db54-453c-c29a-bef3d96934e8"
      },
      "outputs": [
        {
          "data": {
            "text/html": [
              "<div>\n",
              "<style scoped>\n",
              "    .dataframe tbody tr th:only-of-type {\n",
              "        vertical-align: middle;\n",
              "    }\n",
              "\n",
              "    .dataframe tbody tr th {\n",
              "        vertical-align: top;\n",
              "    }\n",
              "\n",
              "    .dataframe thead th {\n",
              "        text-align: right;\n",
              "    }\n",
              "</style>\n",
              "<table border=\"1\" class=\"dataframe\">\n",
              "  <thead>\n",
              "    <tr style=\"text-align: right;\">\n",
              "      <th>gender</th>\n",
              "      <th>Female</th>\n",
              "      <th>Male</th>\n",
              "      <th>Other</th>\n",
              "    </tr>\n",
              "    <tr>\n",
              "      <th>stroke</th>\n",
              "      <th></th>\n",
              "      <th></th>\n",
              "      <th></th>\n",
              "    </tr>\n",
              "  </thead>\n",
              "  <tbody>\n",
              "    <tr>\n",
              "      <th>0</th>\n",
              "      <td>0.558317</td>\n",
              "      <td>0.392759</td>\n",
              "      <td>0.000196</td>\n",
              "    </tr>\n",
              "    <tr>\n",
              "      <th>1</th>\n",
              "      <td>0.027593</td>\n",
              "      <td>0.021135</td>\n",
              "      <td>0.000000</td>\n",
              "    </tr>\n",
              "  </tbody>\n",
              "</table>\n",
              "</div>"
            ],
            "text/plain": [
              "gender    Female      Male     Other\n",
              "stroke                              \n",
              "0       0.558317  0.392759  0.000196\n",
              "1       0.027593  0.021135  0.000000"
            ]
          },
          "execution_count": 17,
          "metadata": {},
          "output_type": "execute_result"
        }
      ],
      "source": [
        "pd.crosstab(df['stroke'], df['gender'])/len(df)"
      ]
    },
    {
      "cell_type": "markdown",
      "metadata": {},
      "source": [
        "In order to check the correlation of each feature with one another, we create the correlation map"
      ]
    },
    {
      "cell_type": "code",
      "execution_count": 18,
      "metadata": {
        "colab": {
          "base_uri": "https://localhost:8080/",
          "height": 607
        },
        "id": "UTmUmOgjsXoC",
        "outputId": "e518e208-690a-4b67-86ce-f6cfd07c4815"
      },
      "outputs": [
        {
          "data": {
            "image/png": "[encoded data removed]",
            "text/plain": [
              "<Figure size 1080x720 with 2 Axes>"
            ]
          },
          "metadata": {
            "needs_background": "light"
          },
          "output_type": "display_data"
        }
      ],
      "source": [
        "# Create correlation matrix from train data excluding `SalePrice`\n",
        "corr_mat = df.corr()\n",
        "\n",
        "# Select correlations greater than 0.5\n",
        "high_corr_mat = corr_mat[abs(corr_mat) >= 0.4]\n",
        "\n",
        "# Plot correlation heatmap\n",
        "plt.figure(figsize=(15, 10))\n",
        "sns.heatmap(corr_mat,\n",
        "            annot=True,\n",
        "            fmt='.1f',\n",
        "            cmap='GnBu',\n",
        "            vmin=0.5,\n",
        "            vmax=1)\n",
        "title = plt.title('Correlation Heatmap')"
      ]
    },
    {
      "cell_type": "markdown",
      "metadata": {
        "id": "eD2dwjdcwd-R"
      },
      "source": [
        "# Data Processing"
      ]
    },
    {
      "cell_type": "markdown",
      "metadata": {},
      "source": [
        "We create dummy valus for categorical features"
      ]
    },
    {
      "cell_type": "code",
      "execution_count": 19,
      "metadata": {
        "id": "GCIuTyKHnHLs"
      },
      "outputs": [],
      "source": [
        "df = pd.get_dummies(data, columns=['gender', 'ever_married', 'work_type', 'Residence_type', 'smoking_status'])\n"
      ]
    },
    {
      "cell_type": "markdown",
      "metadata": {},
      "source": [
        "As mentioned earlier, 3.9% of bmi is NA values. We replace these NA values with mean bmi value"
      ]
    },
    {
      "cell_type": "code",
      "execution_count": 20,
      "metadata": {
        "colab": {
          "base_uri": "https://localhost:8080/"
        },
        "id": "G2c1vhM8xfEs",
        "outputId": "94f810c2-4a87-4e87-cf1e-1f038a0338aa"
      },
      "outputs": [
        {
          "data": {
            "text/plain": [
              "0"
            ]
          },
          "execution_count": 20,
          "metadata": {},
          "output_type": "execute_result"
        }
      ],
      "source": [
        "mean_bmi = df['bmi'].mean()\n",
        "df['bmi'].fillna(value=mean_bmi, inplace=True)\n",
        "df['bmi'].isna().sum()"
      ]
    },
    {
      "cell_type": "markdown",
      "metadata": {},
      "source": [
        "We review the columns, all NA values are gone"
      ]
    },
    {
      "cell_type": "code",
      "execution_count": 21,
      "metadata": {
        "colab": {
          "base_uri": "https://localhost:8080/"
        },
        "id": "BJnq3pA-x20Z",
        "outputId": "25003b53-8a14-43e9-ddba-f60b964a4891"
      },
      "outputs": [
        {
          "data": {
            "text/plain": [
              "Series([], dtype: int64)"
            ]
          },
          "execution_count": 21,
          "metadata": {},
          "output_type": "execute_result"
        }
      ],
      "source": [
        "df[df['bmi'] == 'NaN'].value_counts()"
      ]
    },
    {
      "cell_type": "code",
      "execution_count": 22,
      "metadata": {
        "colab": {
          "base_uri": "https://localhost:8080/",
          "height": 287
        },
        "id": "1ImdW1y4w7oY",
        "outputId": "c866bfe3-d69d-41b6-b4ed-89e226caed26"
      },
      "outputs": [
        {
          "data": {
            "text/html": [
              "<div>\n",
              "<style scoped>\n",
              "    .dataframe tbody tr th:only-of-type {\n",
              "        vertical-align: middle;\n",
              "    }\n",
              "\n",
              "    .dataframe tbody tr th {\n",
              "        vertical-align: top;\n",
              "    }\n",
              "\n",
              "    .dataframe thead th {\n",
              "        text-align: right;\n",
              "    }\n",
              "</style>\n",
              "<table border=\"1\" class=\"dataframe\">\n",
              "  <thead>\n",
              "    <tr style=\"text-align: right;\">\n",
              "      <th></th>\n",
              "      <th>id</th>\n",
              "      <th>age</th>\n",
              "      <th>hypertension</th>\n",
              "      <th>heart_disease</th>\n",
              "      <th>avg_glucose_level</th>\n",
              "      <th>bmi</th>\n",
              "      <th>stroke</th>\n",
              "      <th>gender_Female</th>\n",
              "      <th>gender_Male</th>\n",
              "      <th>gender_Other</th>\n",
              "      <th>...</th>\n",
              "      <th>work_type_Never_worked</th>\n",
              "      <th>work_type_Private</th>\n",
              "      <th>work_type_Self-employed</th>\n",
              "      <th>work_type_children</th>\n",
              "      <th>Residence_type_Rural</th>\n",
              "      <th>Residence_type_Urban</th>\n",
              "      <th>smoking_status_Unknown</th>\n",
              "      <th>smoking_status_formerly smoked</th>\n",
              "      <th>smoking_status_never smoked</th>\n",
              "      <th>smoking_status_smokes</th>\n",
              "    </tr>\n",
              "  </thead>\n",
              "  <tbody>\n",
              "    <tr>\n",
              "      <th>0</th>\n",
              "      <td>9046</td>\n",
              "      <td>67.0</td>\n",
              "      <td>0</td>\n",
              "      <td>1</td>\n",
              "      <td>228.69</td>\n",
              "      <td>36.600000</td>\n",
              "      <td>1</td>\n",
              "      <td>0</td>\n",
              "      <td>1</td>\n",
              "      <td>0</td>\n",
              "      <td>...</td>\n",
              "      <td>0</td>\n",
              "      <td>1</td>\n",
              "      <td>0</td>\n",
              "      <td>0</td>\n",
              "      <td>0</td>\n",
              "      <td>1</td>\n",
              "      <td>0</td>\n",
              "      <td>1</td>\n",
              "      <td>0</td>\n",
              "      <td>0</td>\n",
              "    </tr>\n",
              "    <tr>\n",
              "      <th>1</th>\n",
              "      <td>51676</td>\n",
              "      <td>61.0</td>\n",
              "      <td>0</td>\n",
              "      <td>0</td>\n",
              "      <td>202.21</td>\n",
              "      <td>28.893237</td>\n",
              "      <td>1</td>\n",
              "      <td>1</td>\n",
              "      <td>0</td>\n",
              "      <td>0</td>\n",
              "      <td>...</td>\n",
              "      <td>0</td>\n",
              "      <td>0</td>\n",
              "      <td>1</td>\n",
              "      <td>0</td>\n",
              "      <td>1</td>\n",
              "      <td>0</td>\n",
              "      <td>0</td>\n",
              "      <td>0</td>\n",
              "      <td>1</td>\n",
              "      <td>0</td>\n",
              "    </tr>\n",
              "    <tr>\n",
              "      <th>2</th>\n",
              "      <td>31112</td>\n",
              "      <td>80.0</td>\n",
              "      <td>0</td>\n",
              "      <td>1</td>\n",
              "      <td>105.92</td>\n",
              "      <td>32.500000</td>\n",
              "      <td>1</td>\n",
              "      <td>0</td>\n",
              "      <td>1</td>\n",
              "      <td>0</td>\n",
              "      <td>...</td>\n",
              "      <td>0</td>\n",
              "      <td>1</td>\n",
              "      <td>0</td>\n",
              "      <td>0</td>\n",
              "      <td>1</td>\n",
              "      <td>0</td>\n",
              "      <td>0</td>\n",
              "      <td>0</td>\n",
              "      <td>1</td>\n",
              "      <td>0</td>\n",
              "    </tr>\n",
              "    <tr>\n",
              "      <th>3</th>\n",
              "      <td>60182</td>\n",
              "      <td>49.0</td>\n",
              "      <td>0</td>\n",
              "      <td>0</td>\n",
              "      <td>171.23</td>\n",
              "      <td>34.400000</td>\n",
              "      <td>1</td>\n",
              "      <td>1</td>\n",
              "      <td>0</td>\n",
              "      <td>0</td>\n",
              "      <td>...</td>\n",
              "      <td>0</td>\n",
              "      <td>1</td>\n",
              "      <td>0</td>\n",
              "      <td>0</td>\n",
              "      <td>0</td>\n",
              "      <td>1</td>\n",
              "      <td>0</td>\n",
              "      <td>0</td>\n",
              "      <td>0</td>\n",
              "      <td>1</td>\n",
              "    </tr>\n",
              "    <tr>\n",
              "      <th>4</th>\n",
              "      <td>1665</td>\n",
              "      <td>79.0</td>\n",
              "      <td>1</td>\n",
              "      <td>0</td>\n",
              "      <td>174.12</td>\n",
              "      <td>24.000000</td>\n",
              "      <td>1</td>\n",
              "      <td>1</td>\n",
              "      <td>0</td>\n",
              "      <td>0</td>\n",
              "      <td>...</td>\n",
              "      <td>0</td>\n",
              "      <td>0</td>\n",
              "      <td>1</td>\n",
              "      <td>0</td>\n",
              "      <td>1</td>\n",
              "      <td>0</td>\n",
              "      <td>0</td>\n",
              "      <td>0</td>\n",
              "      <td>1</td>\n",
              "      <td>0</td>\n",
              "    </tr>\n",
              "  </tbody>\n",
              "</table>\n",
              "<p>5 rows × 23 columns</p>\n",
              "</div>"
            ],
            "text/plain": [
              "      id   age  hypertension  heart_disease  avg_glucose_level        bmi  \\\n",
              "0   9046  67.0             0              1             228.69  36.600000   \n",
              "1  51676  61.0             0              0             202.21  28.893237   \n",
              "2  31112  80.0             0              1             105.92  32.500000   \n",
              "3  60182  49.0             0              0             171.23  34.400000   \n",
              "4   1665  79.0             1              0             174.12  24.000000   \n",
              "\n",
              "   stroke  gender_Female  gender_Male  gender_Other  ...  \\\n",
              "0       1              0            1             0  ...   \n",
              "1       1              1            0             0  ...   \n",
              "2       1              0            1             0  ...   \n",
              "3       1              1            0             0  ...   \n",
              "4       1              1            0             0  ...   \n",
              "\n",
              "   work_type_Never_worked  work_type_Private  work_type_Self-employed  \\\n",
              "0                       0                  1                        0   \n",
              "1                       0                  0                        1   \n",
              "2                       0                  1                        0   \n",
              "3                       0                  1                        0   \n",
              "4                       0                  0                        1   \n",
              "\n",
              "   work_type_children  Residence_type_Rural  Residence_type_Urban  \\\n",
              "0                   0                     0                     1   \n",
              "1                   0                     1                     0   \n",
              "2                   0                     1                     0   \n",
              "3                   0                     0                     1   \n",
              "4                   0                     1                     0   \n",
              "\n",
              "   smoking_status_Unknown  smoking_status_formerly smoked  \\\n",
              "0                       0                               1   \n",
              "1                       0                               0   \n",
              "2                       0                               0   \n",
              "3                       0                               0   \n",
              "4                       0                               0   \n",
              "\n",
              "   smoking_status_never smoked  smoking_status_smokes  \n",
              "0                            0                      0  \n",
              "1                            1                      0  \n",
              "2                            1                      0  \n",
              "3                            0                      1  \n",
              "4                            1                      0  \n",
              "\n",
              "[5 rows x 23 columns]"
            ]
          },
          "execution_count": 22,
          "metadata": {},
          "output_type": "execute_result"
        }
      ],
      "source": [
        "df.head()"
      ]
    },
    {
      "cell_type": "markdown",
      "metadata": {},
      "source": [
        "To improve model accuracy, I standardize features with large range using standard scaler"
      ]
    },
    {
      "cell_type": "code",
      "execution_count": 23,
      "metadata": {
        "id": "dQXTmKUDnI7N"
      },
      "outputs": [],
      "source": [
        "from sklearn.preprocessing import StandardScaler\n",
        "std_scaler = StandardScaler()\n",
        "df['age_scaled'] = std_scaler.fit_transform(df['age'].values.reshape(-1,1))\n",
        "df['avg_glucose_level_scaled'] = std_scaler.fit_transform(df['avg_glucose_level'].values.reshape(-1,1))\n",
        "df['bmi_scaled'] = std_scaler.fit_transform(df['bmi'].values.reshape(-1,1))\n",
        "# df['avg_glucose_level_scaled'] = std_scaler.fit_transform(df['avg_glucose_level'].values.reshape(-1,1))\n",
        "# df['avg_glucose_level_scaled'] = std_scaler.fit_transform(df['avg_glucose_level'].values.reshape(-1,1))"
      ]
    },
    {
      "cell_type": "markdown",
      "metadata": {},
      "source": [
        "We review \"age_scaled\", the column we have applied StandardScaler"
      ]
    },
    {
      "cell_type": "code",
      "execution_count": 24,
      "metadata": {
        "colab": {
          "base_uri": "https://localhost:8080/"
        },
        "id": "QwBuIuufnI4k",
        "outputId": "bc8d2896-a3dd-4c9d-acef-ed731975626e"
      },
      "outputs": [
        {
          "data": {
            "text/plain": [
              "0       1.051434\n",
              "1       0.786070\n",
              "2       1.626390\n",
              "3       0.255342\n",
              "4       1.582163\n",
              "          ...   \n",
              "5105    1.626390\n",
              "5106    1.670617\n",
              "5107   -0.363842\n",
              "5108    0.343796\n",
              "5109    0.034205\n",
              "Name: age_scaled, Length: 5110, dtype: float64"
            ]
          },
          "execution_count": 24,
          "metadata": {},
          "output_type": "execute_result"
        }
      ],
      "source": [
        "df['age_scaled']"
      ]
    },
    {
      "cell_type": "markdown",
      "metadata": {},
      "source": [
        "Then, we remove the original columns from dataset to start training for models"
      ]
    },
    {
      "cell_type": "code",
      "execution_count": 25,
      "metadata": {
        "id": "Qq6G87UnnIrk"
      },
      "outputs": [],
      "source": [
        "df.drop(['id','age','avg_glucose_level','bmi'],axis=1, inplace=True)\n"
      ]
    },
    {
      "cell_type": "markdown",
      "metadata": {},
      "source": [
        "# Prepare data for model"
      ]
    },
    {
      "cell_type": "code",
      "execution_count": 26,
      "metadata": {
        "id": "-wFGJXRznIma"
      },
      "outputs": [],
      "source": [
        "# Create X and y for models\n",
        "X = df.drop('stroke', axis=1)\n",
        "y = df['stroke']"
      ]
    },
    {
      "cell_type": "code",
      "execution_count": 27,
      "metadata": {
        "id": "MORZSkylnIjx"
      },
      "outputs": [],
      "source": [
        "# Using train_test_split to split the dataset\n",
        "X_train, X_test, y_train, y_test = train_test_split(X, y, test_size=0.3, random_state=5)"
      ]
    },
    {
      "cell_type": "markdown",
      "metadata": {},
      "source": [
        "We could see that the stroke class (5%) is overwhelmed by non-stroke class (95%). Models could not learn well if the dataset is significantly imbalance. The strategy to fix this imbalance is to use SMOTE (oversampling technique) to increase number of stroke equal to non-stroke in training data so models could learn better. Then we will use the model to predict the original test data."
      ]
    },
    {
      "cell_type": "code",
      "execution_count": 28,
      "metadata": {
        "id": "ylnm6fvBnIhc"
      },
      "outputs": [
        {
          "data": {
            "text/plain": [
              "0    0.951076\n",
              "1    0.048924\n",
              "Name: stroke, dtype: float64"
            ]
          },
          "execution_count": 28,
          "metadata": {},
          "output_type": "execute_result"
        }
      ],
      "source": [
        "y_test.value_counts()/len(y_test)"
      ]
    },
    {
      "cell_type": "code",
      "execution_count": 29,
      "metadata": {
        "id": "Q6mIHrbQnIew"
      },
      "outputs": [
        {
          "data": {
            "text/plain": [
              "0    0.951356\n",
              "1    0.048644\n",
              "Name: stroke, dtype: float64"
            ]
          },
          "execution_count": 29,
          "metadata": {},
          "output_type": "execute_result"
        }
      ],
      "source": [
        "y_train.value_counts()/len(y_train)"
      ]
    },
    {
      "cell_type": "code",
      "execution_count": 30,
      "metadata": {
        "id": "gWyTKcvxnIcb"
      },
      "outputs": [
        {
          "name": "stdout",
          "output_type": "stream",
          "text": [
            "0.8.1\n"
          ]
        }
      ],
      "source": [
        "import imblearn\n",
        "from imblearn.over_sampling import SMOTE\n",
        "print(imblearn.__version__)\n"
      ]
    },
    {
      "cell_type": "code",
      "execution_count": 31,
      "metadata": {
        "id": "AbwGa5F1nIZ0"
      },
      "outputs": [],
      "source": [
        "oversample = SMOTE()\n",
        "X_train_resh, y_train_resh = oversample.fit_resample(X_train, y_train.ravel())"
      ]
    },
    {
      "cell_type": "code",
      "execution_count": 32,
      "metadata": {
        "id": "BEUeSn25nIXf"
      },
      "outputs": [
        {
          "data": {
            "text/plain": [
              "(array([0, 1]), array([3403, 3403]))"
            ]
          },
          "execution_count": 32,
          "metadata": {},
          "output_type": "execute_result"
        }
      ],
      "source": [
        "# Now train data is more balanced between 0 and 1\n",
        "np.unique(y_train_resh, return_counts=True)"
      ]
    },
    {
      "cell_type": "markdown",
      "metadata": {},
      "source": [
        "# Modelling"
      ]
    },
    {
      "cell_type": "markdown",
      "metadata": {},
      "source": [
        "We will use 3 models: Random Forest, Logistics Regression and Support Vector Machine. Because these 3 models are normally the best performers in classification exercises."
      ]
    },
    {
      "cell_type": "code",
      "execution_count": 33,
      "metadata": {},
      "outputs": [],
      "source": [
        "rf = RandomForestClassifier(random_state=52)\n",
        "svm = SVC(random_state=52)\n",
        "logreg = LogisticRegression(random_state=52, max_iter = 10000)"
      ]
    },
    {
      "cell_type": "code",
      "execution_count": 34,
      "metadata": {
        "id": "oVNyOeonnIUs"
      },
      "outputs": [],
      "source": [
        "# Create cross validation score \n",
        "rf_cv = cross_val_score(rf, X_train_resh, y_train_resh, cv=10, scoring='f1')\n",
        "svm_cv = cross_val_score(svm, X_train_resh, y_train_resh, cv=10, scoring='f1')\n"
      ]
    },
    {
      "cell_type": "code",
      "execution_count": 35,
      "metadata": {
        "id": "Vf_IMUZWnISS"
      },
      "outputs": [],
      "source": [
        "logreg_cv = cross_val_score(logreg, X_train_resh, y_train_resh, cv=10, scoring='f1')"
      ]
    },
    {
      "cell_type": "code",
      "execution_count": 36,
      "metadata": {
        "id": "PTRIBO3ynIP4"
      },
      "outputs": [
        {
          "name": "stdout",
          "output_type": "stream",
          "text": [
            "Mean f1 scores:\n",
            "Random Forest mean : 0.9606897075717606\n",
            "SVM mean : 0.918167406695129\n",
            "Logistic Regression mean : 0.8675209416508363\n"
          ]
        }
      ],
      "source": [
        "print('Mean f1 scores:')\n",
        "print('Random Forest mean :',cross_val_score(rf,X_train_resh,y_train_resh,cv=10,scoring='f1').mean())\n",
        "print('SVM mean :',cross_val_score(svm,X_train_resh,y_train_resh,cv=10,scoring='f1').mean())\n",
        "print('Logistic Regression mean :',cross_val_score(logreg,X_train_resh,y_train_resh,cv=10,scoring='f1').mean())"
      ]
    },
    {
      "cell_type": "code",
      "execution_count": 37,
      "metadata": {},
      "outputs": [
        {
          "data": {
            "text/plain": [
              "LogisticRegression(max_iter=10000, random_state=52)"
            ]
          },
          "execution_count": 37,
          "metadata": {},
          "output_type": "execute_result"
        }
      ],
      "source": [
        "rf.fit(X_train_resh, y_train_resh)\n",
        "svm.fit(X_train_resh, y_train_resh)\n",
        "logreg.fit(X_train_resh, y_train_resh)"
      ]
    },
    {
      "cell_type": "code",
      "execution_count": 38,
      "metadata": {},
      "outputs": [],
      "source": [
        "rf_pred = rf.predict(X_test)\n",
        "svm_pred = svm.predict(X_test)\n",
        "logreg_pred = logreg.predict(X_test)"
      ]
    },
    {
      "cell_type": "code",
      "execution_count": 39,
      "metadata": {},
      "outputs": [],
      "source": [
        "# create confusion matrix\n",
        "rf_cm = confusion_matrix(y_test,rf_pred)\n",
        "svm_cm = confusion_matrix(y_test,svm_pred)\n",
        "logreg_cm = confusion_matrix(y_test,logreg_pred)"
      ]
    },
    {
      "cell_type": "code",
      "execution_count": 40,
      "metadata": {},
      "outputs": [],
      "source": [
        "# calculate f1 score\n",
        "rf_f1 = f1_score(y_test, rf_pred)\n",
        "svm_f1 = f1_score(y_test, svm_pred)\n",
        "logreg_f1 = f1_score(y_test, logreg_pred)"
      ]
    },
    {
      "cell_type": "markdown",
      "metadata": {},
      "source": [
        "Logistic Regression has the best F1 score among all models"
      ]
    },
    {
      "cell_type": "code",
      "execution_count": 41,
      "metadata": {},
      "outputs": [
        {
          "name": "stdout",
          "output_type": "stream",
          "text": [
            "Mean f1 scores:\n",
            "RF mean : 0.0945945945945946\n",
            "SVM mean : 0.13197969543147206\n",
            "LR mean : 0.26153846153846155\n"
          ]
        }
      ],
      "source": [
        "print('Mean f1 scores:')\n",
        "\n",
        "print('RF mean :',rf_f1)\n",
        "print('SVM mean :',svm_f1)\n",
        "print('LR mean :',logreg_f1)"
      ]
    },
    {
      "cell_type": "markdown",
      "metadata": {},
      "source": [
        "We create classification report and accuracy score for each model"
      ]
    },
    {
      "cell_type": "code",
      "execution_count": 42,
      "metadata": {},
      "outputs": [
        {
          "name": "stdout",
          "output_type": "stream",
          "text": [
            "              precision    recall  f1-score   support\n",
            "\n",
            "           0       0.95      0.95      0.95      1458\n",
            "           1       0.10      0.09      0.09        75\n",
            "\n",
            "    accuracy                           0.91      1533\n",
            "   macro avg       0.52      0.52      0.52      1533\n",
            "weighted avg       0.91      0.91      0.91      1533\n",
            "\n",
            "Accuracy Score:  0.9125896934116112\n"
          ]
        }
      ],
      "source": [
        "# RF report\n",
        "print(classification_report(y_test,rf_pred))\n",
        "\n",
        "print('Accuracy Score: ',accuracy_score(y_test,rf_pred))"
      ]
    },
    {
      "cell_type": "code",
      "execution_count": 43,
      "metadata": {},
      "outputs": [
        {
          "name": "stdout",
          "output_type": "stream",
          "text": [
            "              precision    recall  f1-score   support\n",
            "\n",
            "           0       0.96      0.93      0.94      1458\n",
            "           1       0.11      0.17      0.13        75\n",
            "\n",
            "    accuracy                           0.89      1533\n",
            "   macro avg       0.53      0.55      0.54      1533\n",
            "weighted avg       0.91      0.89      0.90      1533\n",
            "\n",
            "Accuracy Score:  0.8884540117416829\n"
          ]
        }
      ],
      "source": [
        "# SVM report\n",
        "print(classification_report(y_test,svm_pred))\n",
        "\n",
        "print('Accuracy Score: ',accuracy_score(y_test,svm_pred))"
      ]
    },
    {
      "cell_type": "code",
      "execution_count": 44,
      "metadata": {},
      "outputs": [
        {
          "name": "stdout",
          "output_type": "stream",
          "text": [
            "              precision    recall  f1-score   support\n",
            "\n",
            "           0       0.97      0.90      0.93      1458\n",
            "           1       0.18      0.45      0.26        75\n",
            "\n",
            "    accuracy                           0.87      1533\n",
            "   macro avg       0.58      0.67      0.60      1533\n",
            "weighted avg       0.93      0.87      0.90      1533\n",
            "\n",
            "Accuracy Score:  0.8747553816046967\n"
          ]
        }
      ],
      "source": [
        "# Logreg report\n",
        "print(classification_report(y_test,logreg_pred))\n",
        "\n",
        "print('Accuracy Score: ',accuracy_score(y_test,logreg_pred))"
      ]
    },
    {
      "cell_type": "markdown",
      "metadata": {},
      "source": [
        "Although Logistics Regression has lowest accuracy score, this model has much better recall score than Random Forest and SVM. However, all of the models perform poorly in indentifying the correct stroke patients. We will need to tune our models with parameters and Gridsearch."
      ]
    },
    {
      "cell_type": "markdown",
      "metadata": {},
      "source": [
        "## Perform gridsearch to improve recall"
      ]
    },
    {
      "cell_type": "markdown",
      "metadata": {},
      "source": [
        "### Gridsearch on Random Forest"
      ]
    },
    {
      "cell_type": "code",
      "execution_count": 45,
      "metadata": {},
      "outputs": [],
      "source": [
        "n_estimators = [64, 100, 128, 200]\n",
        "max_features = [2,3,5,7]\n",
        "bootstrap = [True, False]\n",
        "\n",
        "param_grid = {'n_estimators': n_estimators, 'max_features': max_features, 'boostrap': bootstrap}"
      ]
    },
    {
      "cell_type": "code",
      "execution_count": 46,
      "metadata": {},
      "outputs": [],
      "source": [
        "grid = GridSearchCV(rf, param_grid=param_grid)\n",
        "# rfc = RandomForestClassifier()"
      ]
    },
    {
      "cell_type": "code",
      "execution_count": 47,
      "metadata": {},
      "outputs": [],
      "source": [
        "rf = RandomForestClassifier(max_features=4, n_estimators=100, criterion='gini', bootstrap=True)\n",
        "rf.fit(X_train_resh, y_train_resh)\n",
        "rfc_pred_tuned = rf.predict(X_test)"
      ]
    },
    {
      "cell_type": "markdown",
      "metadata": {},
      "source": [
        "RF has very high accuracy score, however recall is still very low (11%)"
      ]
    },
    {
      "cell_type": "code",
      "execution_count": 48,
      "metadata": {},
      "outputs": [
        {
          "name": "stdout",
          "output_type": "stream",
          "text": [
            "              precision    recall  f1-score   support\n",
            "\n",
            "           0       0.95      0.95      0.95      1458\n",
            "           1       0.11      0.12      0.12        75\n",
            "\n",
            "    accuracy                           0.91      1533\n",
            "   macro avg       0.53      0.54      0.54      1533\n",
            "weighted avg       0.91      0.91      0.91      1533\n",
            "\n",
            "Accuracy Score:  0.9112850619699935\n"
          ]
        }
      ],
      "source": [
        "# RF report\n",
        "print(classification_report(y_test,rfc_pred_tuned))\n",
        "\n",
        "print('Accuracy Score: ',accuracy_score(y_test,rfc_pred_tuned))"
      ]
    },
    {
      "cell_type": "markdown",
      "metadata": {},
      "source": [
        "### Gridsearch on Logistic Regression"
      ]
    },
    {
      "cell_type": "code",
      "execution_count": 49,
      "metadata": {},
      "outputs": [],
      "source": [
        "penalty = ['l1', 'l2']\n",
        "C = [0.001, 0.01, 0.1, 1, 10, 100]\n",
        "\n",
        "log_param_grid = {'penalty': penalty, 'C': C}\n",
        "\n",
        "logreg = LogisticRegression(max_iter=10000)\n",
        "grid = GridSearchCV(logreg, param_grid=log_param_grid)"
      ]
    },
    {
      "cell_type": "code",
      "execution_count": 50,
      "metadata": {},
      "outputs": [],
      "source": [
        "# grid.fit(X_train_resh,y_train_resh)"
      ]
    },
    {
      "cell_type": "code",
      "execution_count": 51,
      "metadata": {},
      "outputs": [
        {
          "data": {
            "text/plain": [
              "LogisticRegression(C=0.001, max_iter=10000, random_state=55)"
            ]
          },
          "execution_count": 51,
          "metadata": {},
          "output_type": "execute_result"
        }
      ],
      "source": [
        "logreg = LogisticRegression(C=0.001, penalty='l2', random_state=55, max_iter=10000)\n",
        "logreg.fit(X_train_resh, y_train_resh)"
      ]
    },
    {
      "cell_type": "code",
      "execution_count": 52,
      "metadata": {},
      "outputs": [],
      "source": [
        "logreg_pred_tuned = logreg.predict(X_test)"
      ]
    },
    {
      "cell_type": "markdown",
      "metadata": {},
      "source": [
        "In contrast with RF, Logreg shows siginificant improvement in recall score (84%). However, accuracy score is 72% meaning there are a lot of non-stroke people are labeled stroke"
      ]
    },
    {
      "cell_type": "code",
      "execution_count": 53,
      "metadata": {},
      "outputs": [
        {
          "name": "stdout",
          "output_type": "stream",
          "text": [
            "              precision    recall  f1-score   support\n",
            "\n",
            "           0       0.99      0.73      0.84      1458\n",
            "           1       0.14      0.84      0.24        75\n",
            "\n",
            "    accuracy                           0.73      1533\n",
            "   macro avg       0.56      0.78      0.54      1533\n",
            "weighted avg       0.95      0.73      0.81      1533\n",
            "\n",
            "Accuracy Score:  0.7332028701891715\n"
          ]
        }
      ],
      "source": [
        "# RF report\n",
        "print(classification_report(y_test,logreg_pred_tuned))\n",
        "\n",
        "print('Accuracy Score: ',accuracy_score(y_test,logreg_pred_tuned))"
      ]
    },
    {
      "cell_type": "markdown",
      "metadata": {},
      "source": [
        "### Gridsearch on SVM"
      ]
    },
    {
      "cell_type": "code",
      "execution_count": 54,
      "metadata": {},
      "outputs": [],
      "source": [
        "svm = SVC(C=0.1, gamma=0.01, kernel='rbf', random_state=59)\n",
        "\n",
        "svm.fit(X_train_resh, y_train_resh)\n",
        "svm_pred_tuned = svm.predict(X_test)"
      ]
    },
    {
      "cell_type": "markdown",
      "metadata": {},
      "source": [
        "SVM performance is very similar to Logistic Regression. with only slightly lower accuracy (71%)"
      ]
    },
    {
      "cell_type": "code",
      "execution_count": 55,
      "metadata": {},
      "outputs": [
        {
          "name": "stdout",
          "output_type": "stream",
          "text": [
            "              precision    recall  f1-score   support\n",
            "\n",
            "           0       0.99      0.72      0.83      1458\n",
            "           1       0.13      0.81      0.22        75\n",
            "\n",
            "    accuracy                           0.73      1533\n",
            "   macro avg       0.56      0.77      0.53      1533\n",
            "weighted avg       0.94      0.73      0.80      1533\n",
            "\n",
            "Accuracy Score:  0.7253750815394651\n"
          ]
        }
      ],
      "source": [
        "# RF report\n",
        "print(classification_report(y_test,svm_pred_tuned))\n",
        "\n",
        "print('Accuracy Score: ',accuracy_score(y_test,svm_pred_tuned))"
      ]
    },
    {
      "cell_type": "markdown",
      "metadata": {},
      "source": [
        "## Model comparisons"
      ]
    },
    {
      "cell_type": "markdown",
      "metadata": {},
      "source": [
        "We compare the 3 models using classification report, ROC curve "
      ]
    },
    {
      "cell_type": "code",
      "execution_count": 56,
      "metadata": {},
      "outputs": [],
      "source": [
        "ns_probs = [0 for _ in range((len(y_test)))]\n",
        "\n",
        "lr_probs = logreg.predict_proba(X_test)\n",
        "lr_probs = lr_probs[:, 1]\n",
        "\n",
        "ns_auc = roc_auc_score(y_test, ns_probs)\n",
        "lr_auc = roc_auc_score(y_test, lr_probs)"
      ]
    },
    {
      "cell_type": "code",
      "execution_count": 57,
      "metadata": {},
      "outputs": [],
      "source": [
        "ns_fpr, ns_tpr, _ = roc_curve(y_test, ns_probs)\n",
        "lr_fpr, lr_tpr, _ = roc_curve(y_test, lr_probs)"
      ]
    },
    {
      "cell_type": "code",
      "execution_count": 58,
      "metadata": {},
      "outputs": [],
      "source": [
        "y_scores = logreg.predict_proba(X_train)[:,1]\n",
        "precisions, recalls, thresholds = precision_recall_curve(y_train, y_scores)"
      ]
    },
    {
      "cell_type": "markdown",
      "metadata": {},
      "source": [
        "Below we inspect the ROC curve of Logistic Regression and its performance\n",
        "\n",
        "As mentioned earlier, LogReg has higher recall but low accuracy, meaning it predicts more people to have a stroke - which in itself would have negative effects."
      ]
    },
    {
      "cell_type": "code",
      "execution_count": 59,
      "metadata": {},
      "outputs": [
        {
          "name": "stderr",
          "output_type": "stream",
          "text": [
            "/var/folders/60/gmbxqch57r53py2v67gwvz780000gn/T/ipykernel_20087/1697946694.py:20: UserWarning: color is redundantly defined by the 'color' keyword argument and the fmt string \"b--\" (-> color='b'). The keyword argument will take precedence.\n",
            "  ax[0].plot(thresholds, precisions[:-1], 'b--', label='Precision',color='#9bb7d4')\n"
          ]
        },
        {
          "data": {
            "image/png": "[encoded data removed]",
            "text/plain": [
              "<Figure size 864x288 with 2 Axes>"
            ]
          },
          "metadata": {},
          "output_type": "display_data"
        }
      ],
      "source": [
        "fig = plt.figure(figsize=(12,4))\n",
        "gs = fig.add_gridspec(1,2,wspace=0.1, hspace=0)\n",
        "ax = gs.subplots()\n",
        "\n",
        "background_color = \"#f6f6f6\"\n",
        "fig.patch.set_facecolor(background_color) # figure background color\n",
        "ax[0].set_facecolor(background_color) \n",
        "ax[1].set_facecolor(background_color)\n",
        "\n",
        "ax[0].grid(color='gray', linestyle=':', axis='y', zorder=0,  dashes=(1,5))\n",
        "ax[1].grid(color='gray', linestyle=':', axis='y',  dashes=(1,5))\n",
        "\n",
        "\n",
        "\n",
        "y_scores = logreg.predict_proba(X_train)[:,1]\n",
        "\n",
        "\n",
        "precisions, recalls, thresholds = precision_recall_curve(y_train, y_scores)\n",
        "\n",
        "ax[0].plot(thresholds, precisions[:-1], 'b--', label='Precision',color='#9bb7d4')\n",
        "ax[0].plot(thresholds, recalls[:-1], '.', linewidth=1,label='Recall',color='#0f4c81')\n",
        "ax[0].set_ylabel('True Positive Rate',loc='bottom')\n",
        "ax[0].set_xlabel('Thresholds',loc='left')\n",
        "#plt.legend(loc='center left')\n",
        "ax[0].set_ylim([0,1])\n",
        "\n",
        "\n",
        "# plot the roc curve for the model\n",
        "ax[1].plot(ns_fpr, ns_tpr, linestyle='--', label='Dummy Classifer',color='gray')\n",
        "ax[1].plot(lr_fpr, lr_tpr, marker='.', linewidth=2,color='#0f4c81')\n",
        "ax[1].set_xlabel('False Positive Rate',loc='left')\n",
        "ax[1].set_ylabel('')\n",
        "ax[1].set_ylim([0,1])\n",
        "\n",
        "for s in [\"top\",\"right\",\"left\"]:\n",
        "    ax[0].spines[s].set_visible(False)\n",
        "    ax[1].spines[s].set_visible(False)\n",
        "    \n",
        "# ax[0].text(-0.1,2,'Model Selection: Considerations',fontsize=18,fontfamily='Helvetica',fontweight='bold')\n",
        "\n",
        "\n",
        "ax[0].text(-0.1,1.1,'Precision & Recall',fontsize=14,fontfamily='Helvetica',fontweight='bold')\n",
        "ax[1].text(-0.1,1.1,'ROC: True Positives & False Positives',fontsize=14,fontfamily='Helvetica',fontweight='bold')\n",
        "\n",
        "ax[1].tick_params(axis='y', colors=background_color)\n",
        "\n",
        "plt.show()"
      ]
    },
    {
      "cell_type": "code",
      "execution_count": 60,
      "metadata": {},
      "outputs": [],
      "source": [
        "# create confusion matrix\n",
        "rf_cm = confusion_matrix(y_test,rfc_pred_tuned)\n",
        "svm_cm = confusion_matrix(y_test,svm_pred_tuned)\n",
        "logreg_cm = confusion_matrix(y_test,logreg_pred_tuned)"
      ]
    },
    {
      "cell_type": "code",
      "execution_count": 61,
      "metadata": {},
      "outputs": [],
      "source": [
        "# Make dataframes to plot\n",
        "\n",
        "rf_df = pd.DataFrame(data=[f1_score(y_test,rfc_pred_tuned),accuracy_score(y_test, rfc_pred_tuned), recall_score(y_test, rfc_pred_tuned),\n",
        "                   precision_score(y_test, rfc_pred_tuned), roc_auc_score(y_test, rfc_pred_tuned)], \n",
        "             columns=['Random Forest Score'],\n",
        "             index=[\"F1\",\"Accuracy\", \"Recall\", \"Precision\", \"ROC AUC Score\"])\n",
        "\n",
        "svm_df = pd.DataFrame(data=[f1_score(y_test,svm_pred_tuned),accuracy_score(y_test, svm_pred_tuned), recall_score(y_test, svm_pred_tuned),\n",
        "                   precision_score(y_test, svm_pred_tuned), roc_auc_score(y_test, svm_pred_tuned)], \n",
        "             columns=['Support Vector Machine (SVM) Score'],\n",
        "             index=[\"F1\",\"Accuracy\", \"Recall\", \"Precision\", \"ROC AUC Score\"])\n",
        "\n",
        "lr_df = pd.DataFrame(data=[f1_score(y_test,logreg_pred_tuned),accuracy_score(y_test, logreg_pred_tuned), recall_score(y_test, logreg_pred_tuned),\n",
        "                   precision_score(y_test, logreg_pred_tuned), roc_auc_score(y_test, logreg_pred_tuned)], \n",
        "             columns=['Tuned Logistic Regression Score'],\n",
        "             index=[\"F1\",\"Accuracy\", \"Recall\", \"Precision\", \"ROC AUC Score\"])"
      ]
    },
    {
      "cell_type": "markdown",
      "metadata": {},
      "source": [
        "We summary the classification of all models in below table"
      ]
    },
    {
      "cell_type": "code",
      "execution_count": 62,
      "metadata": {},
      "outputs": [
        {
          "data": {
            "image/png": "[encoded data removed]",
            "text/plain": [
              "<Figure size 720x576 with 1 Axes>"
            ]
          },
          "metadata": {},
          "output_type": "display_data"
        }
      ],
      "source": [
        "df_models = round(pd.concat([rf_df,svm_df,lr_df], axis=1),3)\n",
        "import matplotlib\n",
        "colors = [\"lightgray\",\"lightgray\",\"#0f4c81\"]\n",
        "colormap = matplotlib.colors.LinearSegmentedColormap.from_list(\"\", colors)\n",
        "\n",
        "background_color = \"#fbfbfb\"\n",
        "\n",
        "fig = plt.figure(figsize=(10,8)) # create figure\n",
        "gs = fig.add_gridspec(4, 2)\n",
        "gs.update(wspace=0.1, hspace=0.5)\n",
        "ax0 = fig.add_subplot(gs[0, :])\n",
        "\n",
        "sns.heatmap(df_models.T, cmap=colormap,annot=True,fmt=\".1%\",vmin=0,vmax=0.95, linewidths=2.5,cbar=False,ax=ax0,annot_kws={\"fontsize\":12})\n",
        "fig.patch.set_facecolor(background_color) # figure background color\n",
        "ax0.set_facecolor(background_color) \n",
        "\n",
        "plt.show()"
      ]
    },
    {
      "cell_type": "code",
      "execution_count": 63,
      "metadata": {},
      "outputs": [
        {
          "data": {
            "image/png": "[encoded data removed]",
            "text/plain": [
              "<Figure size 720x1008 with 3 Axes>"
            ]
          },
          "metadata": {},
          "output_type": "display_data"
        }
      ],
      "source": [
        "# Plotting our results\n",
        "\n",
        "colors = [\"lightgray\",\"#0f4c81\",\"#0f4c81\",\"#0f4c81\",\"#0f4c81\",\"#0f4c81\",\"#0f4c81\",\"#0f4c81\"]\n",
        "colormap = matplotlib.colors.LinearSegmentedColormap.from_list(\"\", colors)\n",
        "\n",
        "\n",
        "background_color = \"#fbfbfb\"\n",
        "\n",
        "fig = plt.figure(figsize=(10,14)) # create figure\n",
        "gs = fig.add_gridspec(4, 2)\n",
        "gs.update(wspace=0.1, hspace=0.8)\n",
        "ax0 = fig.add_subplot(gs[0, :])\n",
        "ax1 = fig.add_subplot(gs[1, :])\n",
        "ax2 = fig.add_subplot(gs[2, :])\n",
        "ax0.set_facecolor(background_color) # axes background color\n",
        "\n",
        "# Overall\n",
        "sns.heatmap(rf_cm, cmap=colormap,annot=True,fmt=\"d\", linewidths=5,cbar=False,ax=ax0,\n",
        "            yticklabels=['Actual Non-Stroke','Actual Stroke'],xticklabels=['Predicted Non-Stroke','Predicted Stroke'],annot_kws={\"fontsize\":12})\n",
        "\n",
        "sns.heatmap(logreg_cm, cmap=colormap,annot=True,fmt=\"d\", linewidths=5,cbar=False,ax=ax1,\n",
        "            yticklabels=['Actual Non-Stroke','Actual Stroke'],xticklabels=['Predicted Non-Stroke','Predicted Stroke'],annot_kws={\"fontsize\":12})\n",
        "\n",
        "sns.heatmap(svm_cm, cmap=colormap,annot=True,fmt=\"d\", linewidths=5,cbar=False,ax=ax2,\n",
        "            yticklabels=['Actual Non-Stroke','Actual Stroke'],xticklabels=['Predicted Non-Stroke','Predicted Stroke'],annot_kws={\"fontsize\":12})\n",
        "\n",
        "\n",
        "\n",
        "ax0.tick_params(axis=u'both', which=u'both',length=0)\n",
        "background_color = \"#fbfbfb\"\n",
        "fig.patch.set_facecolor(background_color) # figure background color\n",
        "ax0.set_facecolor(background_color) \n",
        "ax1.tick_params(axis=u'both', which=u'both',length=0)\n",
        "ax1.set_facecolor(background_color) \n",
        "ax2.tick_params(axis=u'both', which=u'both',length=0)\n",
        "ax2.set_facecolor(background_color)\n",
        "\n",
        "ax0.text(0,-0.75,'Random Forest Performance',fontsize=18,fontweight='bold',fontfamily='serif')\n",
        "ax0.text(0,-0.2,'The model has the highest accuracy, and predicts non-Strokes well.\\nThe recall is poor though.',fontsize=14,fontfamily='serif')\n",
        "\n",
        "ax1.text(0,-0.75,'Logistic Regression Performance',fontsize=18,fontweight='bold',fontfamily='serif')\n",
        "ax1.text(0,-0.2,'This model predicts strokes with most success.\\nHowever, it gives a lot of false-positives.',fontsize=14,fontfamily='serif')\n",
        "\n",
        "ax2.text(0,-0.75,'Support Vector Machine Performance',fontsize=18,fontweight='bold',fontfamily='serif')\n",
        "ax2.text(0,-0.2,'A very similar performance to Logistic Regression.\\nThe recall is slightly less though.',fontsize=14,fontfamily='serif')\n",
        "\n",
        "\n",
        "plt.show()"
      ]
    },
    {
      "cell_type": "markdown",
      "metadata": {},
      "source": [
        "# Conclusion"
      ]
    },
    {
      "cell_type": "markdown",
      "metadata": {},
      "source": [
        "In summary, Logistic Regression has the best performance in identifying stroke patients. However, it also wrongly predicts many normal people to have stroke. \n",
        "\n",
        "Thus, in order to apply the results we would need to closely review our goal of the study: is the trade-off between more accurately indentified stroke patients and normal people fair enough? In real life, I believe that it would be better that we propose medication / preventive actions for more people in order to prevent stroke, which the results of Logistic Regression is suggesting."
      ]
    }
  ],
  "metadata": {
    "colab": {
      "collapsed_sections": [],
      "name": "Stroke Prediction Dataset.ipynb",
      "provenance": []
    },
    "kernelspec": {
      "display_name": "Python 3",
      "name": "python3"
    },
    "language_info": {
      "codemirror_mode": {
        "name": "ipython",
        "version": 3
      },
      "file_extension": ".py",
      "mimetype": "text/x-python",
      "name": "python",
      "nbconvert_exporter": "python",
      "pygments_lexer": "ipython3",
      "version": "3.9.7"
    }
  },
  "nbformat": 4,
  "nbformat_minor": 0
}
